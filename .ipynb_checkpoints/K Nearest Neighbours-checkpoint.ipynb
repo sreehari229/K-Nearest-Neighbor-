{
 "cells": [
  {
   "cell_type": "code",
   "execution_count": 29,
   "metadata": {},
   "outputs": [],
   "source": [
    "#MNIST Dataset\n",
    "DATA_DIR = 'data/'\n",
    "TEST_DATA_FILENAME = DATA_DIR  + '/t10k-images-idx3-ubyte'\n",
    "TEST_LABELS_FILENAME = DATA_DIR  + '/t10k-labels-idx1-ubyte'\n",
    "TRAIN_DATA_FILENAME = DATA_DIR  + '/train-images-idx3-ubyte'\n",
    "TRAIN_LABELS_FILENAME = DATA_DIR  + '/train-labels-idx1-ubyte'"
   ]
  },
  {
   "cell_type": "code",
   "execution_count": 30,
   "metadata": {},
   "outputs": [],
   "source": [
    "def bytes_to_int(byte_data):\n",
    "    return int.from_bytes(byte_data, 'big')"
   ]
  },
  {
   "cell_type": "code",
   "execution_count": 38,
   "metadata": {},
   "outputs": [],
   "source": [
    "def read_images(filename, n_max_images=None):\n",
    "    images = []\n",
    "    with open(filename, 'rb') as f:\n",
    "        _ = f.read(4)  # magic number\n",
    "        n_images = bytes_to_int(f.read(4))\n",
    "        if n_max_images:\n",
    "            n_images = n_max_images\n",
    "        n_rows = bytes_to_int(f.read(4))\n",
    "        n_columns = bytes_to_int(f.read(4))\n",
    "        for image_idx in range(n_images):\n",
    "            image = []\n",
    "            for row_idx in range(n_rows):\n",
    "                row = []\n",
    "                for col_idx in range(n_columns):\n",
    "                    pixel = f.read(1)\n",
    "                    row.append(bytes_to_int(pixel))\n",
    "                image.append(row)\n",
    "            images.append(image)\n",
    "    return images"
   ]
  },
  {
   "cell_type": "code",
   "execution_count": 21,
   "metadata": {},
   "outputs": [],
   "source": [
    "def read_labels(filename, n_max_labels=None):\n",
    "    labels = []\n",
    "    with open(filename, 'rb') as f:\n",
    "        _ = f.read(4)  # magic number\n",
    "        n_labels = bytes_to_int(f.read(4))\n",
    "        if n_max_labels:\n",
    "            n_labels = n_max_labels\n",
    "        for label_idx in range(n_labels):\n",
    "            label = bytes_to_int(f.read(1))\n",
    "            labels.append(label)\n",
    "    return labels"
   ]
  },
  {
   "cell_type": "code",
   "execution_count": 22,
   "metadata": {},
   "outputs": [],
   "source": [
    "def flatten_list(l):\n",
    "    return [pixel for sublist in l for pixel in sublist]\n",
    "\n",
    "def extract_features(X):\n",
    "    return [flatten_list(sample) for sample in X]"
   ]
  },
  {
   "cell_type": "code",
   "execution_count": 39,
   "metadata": {},
   "outputs": [],
   "source": [
    "def dist(x, y):\n",
    "    \"\"\"\n",
    "    Returns the Euclidean distance between vectors `x` and `y`.\n",
    "    \"\"\"\n",
    "    return sum(\n",
    "        [\n",
    "            (x_i - y_i) ** 2\n",
    "            for x_i, y_i in zip(x, y)\n",
    "        ]\n",
    "    ) ** (0.5)"
   ]
  },
  {
   "cell_type": "code",
   "execution_count": 24,
   "metadata": {},
   "outputs": [],
   "source": [
    "def get_training_distances_for_test_sample(X_train, test_sample):\n",
    "    return [dist(train_sample, test_sample) for train_sample in X_train]"
   ]
  },
  {
   "cell_type": "code",
   "execution_count": 25,
   "metadata": {},
   "outputs": [],
   "source": [
    "def get_most_frequent_element(l):\n",
    "    return max(l, key=l.count)"
   ]
  },
  {
   "cell_type": "code",
   "execution_count": 26,
   "metadata": {},
   "outputs": [],
   "source": [
    "def knn(X_train, y_train, X_test, k=3):\n",
    "    y_pred = []\n",
    "    for test_sample_idx, test_sample in enumerate(X_test):\n",
    "        print(test_sample_idx, end=' ', flush=True)\n",
    "        training_distances = get_training_distances_for_test_sample(\n",
    "            X_train, test_sample\n",
    "        )\n",
    "        sorted_distance_indices = [\n",
    "            pair[0]\n",
    "            for pair in sorted(\n",
    "                enumerate(training_distances),\n",
    "                key=lambda x: x[1]\n",
    "            )\n",
    "        ]\n",
    "        candidates = [\n",
    "            y_train[idx]\n",
    "            for idx in sorted_distance_indices[:k]\n",
    "        ]\n",
    "        top_candidate = get_most_frequent_element(candidates)\n",
    "        y_pred.append(top_candidate)\n",
    "    print()\n",
    "    return y_pred"
   ]
  },
  {
   "cell_type": "code",
   "execution_count": 40,
   "metadata": {},
   "outputs": [
    {
     "name": "stdout",
     "output_type": "stream",
     "text": [
      "n_train: 1000\n",
      "n_test: 10\n",
      "k: 7\n",
      "0 1 2 3 4 5 6 7 8 9 \n",
      "Predicted labels: [7, 2, 1, 0, 4, 1, 4, 9, 4, 7]\n",
      "Test labels: [7, 2, 1, 0, 4, 1, 4, 9, 5, 9]\n",
      "Accuracy: 80.0%\n"
     ]
    }
   ],
   "source": [
    "n_train = 1000\n",
    "n_test = 10\n",
    "k = 7\n",
    "    \n",
    "print(f'n_train: {n_train}')\n",
    "print(f'n_test: {n_test}')\n",
    "print(f'k: {k}')\n",
    "X_train = read_images(TRAIN_DATA_FILENAME, n_train)\n",
    "y_train = read_labels(TRAIN_LABELS_FILENAME, n_train)\n",
    "X_test = read_images(TEST_DATA_FILENAME, n_test)\n",
    "y_test = read_labels(TEST_LABELS_FILENAME, n_test)\n",
    "\n",
    "\n",
    "X_train = extract_features(X_train)\n",
    "X_test = extract_features(X_test)\n",
    "\n",
    "y_pred = knn(X_train, y_train, X_test, k)\n",
    "\n",
    "accuracy = sum([ int(y_pred_i == y_test_i) for y_pred_i, y_test_i in zip(y_pred, y_test) ]) / len(y_test)\n",
    "\n",
    "   \n",
    "print(f'Predicted labels: {y_pred}')\n",
    "print(f'Test labels: {y_test}')\n",
    "\n",
    "print(f'Accuracy: {accuracy * 100}%')"
   ]
  },
  {
   "cell_type": "code",
   "execution_count": null,
   "metadata": {},
   "outputs": [],
   "source": []
  }
 ],
 "metadata": {
  "kernelspec": {
   "display_name": "Python 3",
   "language": "python",
   "name": "python3"
  },
  "language_info": {
   "codemirror_mode": {
    "name": "ipython",
    "version": 3
   },
   "file_extension": ".py",
   "mimetype": "text/x-python",
   "name": "python",
   "nbconvert_exporter": "python",
   "pygments_lexer": "ipython3",
   "version": "3.10.4"
  }
 },
 "nbformat": 4,
 "nbformat_minor": 4
}
